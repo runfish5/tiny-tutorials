{
  "nbformat": 4,
  "nbformat_minor": 0,
  "metadata": {
    "colab": {
      "provenance": [],
      "authorship_tag": "ABX9TyOrp+E9OlS/gDYOmeIs/DU3",
      "include_colab_link": true
    },
    "kernelspec": {
      "name": "python3",
      "display_name": "Python 3"
    },
    "language_info": {
      "name": "python"
    },
    "widgets": {
      "application/vnd.jupyter.widget-state+json": {
        "238cd1d41d2744558eebcd942655f716": {
          "model_module": "@jupyter-widgets/controls",
          "model_name": "HBoxModel",
          "model_module_version": "1.5.0",
          "state": {
            "_dom_classes": [],
            "_model_module": "@jupyter-widgets/controls",
            "_model_module_version": "1.5.0",
            "_model_name": "HBoxModel",
            "_view_count": null,
            "_view_module": "@jupyter-widgets/controls",
            "_view_module_version": "1.5.0",
            "_view_name": "HBoxView",
            "box_style": "",
            "children": [
              "IPY_MODEL_ee98eb3fd3e14e5f9f692da00910e964",
              "IPY_MODEL_0ba6f152cb4f412084f72926d01769c4",
              "IPY_MODEL_6c828111096341cba36ca27fdc60d038"
            ],
            "layout": "IPY_MODEL_7875630c7e4240849e97571beaba8ea8"
          }
        },
        "75e6c71f68bc429d8c97c00390a664f3": {
          "model_module": "@jupyter-widgets/controls",
          "model_name": "HBoxModel",
          "model_module_version": "1.5.0",
          "state": {
            "_dom_classes": [],
            "_model_module": "@jupyter-widgets/controls",
            "_model_module_version": "1.5.0",
            "_model_name": "HBoxModel",
            "_view_count": null,
            "_view_module": "@jupyter-widgets/controls",
            "_view_module_version": "1.5.0",
            "_view_name": "HBoxView",
            "box_style": "",
            "children": [
              "IPY_MODEL_d930b8c79aa8424cbfd818a89e2ee9c0",
              "IPY_MODEL_ccd05e3619b5414eb1bf9ce9f913c5d3",
              "IPY_MODEL_b726414959c646a4b14a26f8a44d90f7"
            ],
            "layout": "IPY_MODEL_48f8626f06e84af0ab16010f690df5a5"
          }
        },
        "ed3280188fbc48daa48488d03b1791f6": {
          "model_module": "@jupyter-widgets/controls",
          "model_name": "HBoxModel",
          "model_module_version": "1.5.0",
          "state": {
            "_dom_classes": [],
            "_model_module": "@jupyter-widgets/controls",
            "_model_module_version": "1.5.0",
            "_model_name": "HBoxModel",
            "_view_count": null,
            "_view_module": "@jupyter-widgets/controls",
            "_view_module_version": "1.5.0",
            "_view_name": "HBoxView",
            "box_style": "",
            "children": [
              "IPY_MODEL_200c39301fc341fabc98937a8ee696a3",
              "IPY_MODEL_f49193f6d6284e5d82936161696d38c8",
              "IPY_MODEL_f7d859482ef9438c9bfc47ac3a403cfa"
            ],
            "layout": "IPY_MODEL_c047145b678f41d8a57417fb40b67346"
          }
        },
        "70bf7b0cb9104b0a914e42f805af7fbe": {
          "model_module": "@jupyter-widgets/controls",
          "model_name": "HBoxModel",
          "model_module_version": "1.5.0",
          "state": {
            "_dom_classes": [],
            "_model_module": "@jupyter-widgets/controls",
            "_model_module_version": "1.5.0",
            "_model_name": "HBoxModel",
            "_view_count": null,
            "_view_module": "@jupyter-widgets/controls",
            "_view_module_version": "1.5.0",
            "_view_name": "HBoxView",
            "box_style": "",
            "children": [
              "IPY_MODEL_ca87d9dff0af4741b978748479fd8e0f",
              "IPY_MODEL_eb8a039527064c79b9401ea30084d85f",
              "IPY_MODEL_43aa4904aac544a89c6555a073162303"
            ],
            "layout": "IPY_MODEL_aa7cd85a51db4bca88125a31a69a130e"
          }
        },
        "ee98eb3fd3e14e5f9f692da00910e964": {
          "model_module": "@jupyter-widgets/controls",
          "model_name": "HTMLModel",
          "model_module_version": "1.5.0",
          "state": {
            "_dom_classes": [],
            "_model_module": "@jupyter-widgets/controls",
            "_model_module_version": "1.5.0",
            "_model_name": "HTMLModel",
            "_view_count": null,
            "_view_module": "@jupyter-widgets/controls",
            "_view_module_version": "1.5.0",
            "_view_name": "HTMLView",
            "description": "",
            "description_tooltip": null,
            "layout": "IPY_MODEL_3a17cf13c28a4d7aaf3f450dd6a1816d",
            "placeholder": "​",
            "style": "IPY_MODEL_c7ece8f6ca1349059bcaf642e30c3fb6",
            "value": "vocabulary.txt: 100%"
          }
        },
        "0ba6f152cb4f412084f72926d01769c4": {
          "model_module": "@jupyter-widgets/controls",
          "model_name": "FloatProgressModel",
          "model_module_version": "1.5.0",
          "state": {
            "_dom_classes": [],
            "_model_module": "@jupyter-widgets/controls",
            "_model_module_version": "1.5.0",
            "_model_name": "FloatProgressModel",
            "_view_count": null,
            "_view_module": "@jupyter-widgets/controls",
            "_view_module_version": "1.5.0",
            "_view_name": "ProgressView",
            "bar_style": "success",
            "description": "",
            "description_tooltip": null,
            "layout": "IPY_MODEL_c15cf66ea3cd4a2395fcd4a8e81577a8",
            "max": 459861,
            "min": 0,
            "orientation": "horizontal",
            "style": "IPY_MODEL_d60b6e309eca4f6f874851c7a1e3865b",
            "value": 459861
          }
        },
        "6c828111096341cba36ca27fdc60d038": {
          "model_module": "@jupyter-widgets/controls",
          "model_name": "HTMLModel",
          "model_module_version": "1.5.0",
          "state": {
            "_dom_classes": [],
            "_model_module": "@jupyter-widgets/controls",
            "_model_module_version": "1.5.0",
            "_model_name": "HTMLModel",
            "_view_count": null,
            "_view_module": "@jupyter-widgets/controls",
            "_view_module_version": "1.5.0",
            "_view_name": "HTMLView",
            "description": "",
            "description_tooltip": null,
            "layout": "IPY_MODEL_e1c0946a0f6c4ea7a884a07885d61d6c",
            "placeholder": "​",
            "style": "IPY_MODEL_c1440bcc3c0240659eb8525e22184320",
            "value": " 460k/460k [00:00&lt;00:00, 3.05MB/s]"
          }
        },
        "7875630c7e4240849e97571beaba8ea8": {
          "model_module": "@jupyter-widgets/base",
          "model_name": "LayoutModel",
          "model_module_version": "1.2.0",
          "state": {
            "_model_module": "@jupyter-widgets/base",
            "_model_module_version": "1.2.0",
            "_model_name": "LayoutModel",
            "_view_count": null,
            "_view_module": "@jupyter-widgets/base",
            "_view_module_version": "1.2.0",
            "_view_name": "LayoutView",
            "align_content": null,
            "align_items": null,
            "align_self": null,
            "border": null,
            "bottom": null,
            "display": null,
            "flex": null,
            "flex_flow": null,
            "grid_area": null,
            "grid_auto_columns": null,
            "grid_auto_flow": null,
            "grid_auto_rows": null,
            "grid_column": null,
            "grid_gap": null,
            "grid_row": null,
            "grid_template_areas": null,
            "grid_template_columns": null,
            "grid_template_rows": null,
            "height": null,
            "justify_content": null,
            "justify_items": null,
            "left": null,
            "margin": null,
            "max_height": null,
            "max_width": null,
            "min_height": null,
            "min_width": null,
            "object_fit": null,
            "object_position": null,
            "order": null,
            "overflow": null,
            "overflow_x": null,
            "overflow_y": null,
            "padding": null,
            "right": null,
            "top": null,
            "visibility": null,
            "width": null
          }
        },
        "3a17cf13c28a4d7aaf3f450dd6a1816d": {
          "model_module": "@jupyter-widgets/base",
          "model_name": "LayoutModel",
          "model_module_version": "1.2.0",
          "state": {
            "_model_module": "@jupyter-widgets/base",
            "_model_module_version": "1.2.0",
            "_model_name": "LayoutModel",
            "_view_count": null,
            "_view_module": "@jupyter-widgets/base",
            "_view_module_version": "1.2.0",
            "_view_name": "LayoutView",
            "align_content": null,
            "align_items": null,
            "align_self": null,
            "border": null,
            "bottom": null,
            "display": null,
            "flex": null,
            "flex_flow": null,
            "grid_area": null,
            "grid_auto_columns": null,
            "grid_auto_flow": null,
            "grid_auto_rows": null,
            "grid_column": null,
            "grid_gap": null,
            "grid_row": null,
            "grid_template_areas": null,
            "grid_template_columns": null,
            "grid_template_rows": null,
            "height": null,
            "justify_content": null,
            "justify_items": null,
            "left": null,
            "margin": null,
            "max_height": null,
            "max_width": null,
            "min_height": null,
            "min_width": null,
            "object_fit": null,
            "object_position": null,
            "order": null,
            "overflow": null,
            "overflow_x": null,
            "overflow_y": null,
            "padding": null,
            "right": null,
            "top": null,
            "visibility": null,
            "width": null
          }
        },
        "c7ece8f6ca1349059bcaf642e30c3fb6": {
          "model_module": "@jupyter-widgets/controls",
          "model_name": "DescriptionStyleModel",
          "model_module_version": "1.5.0",
          "state": {
            "_model_module": "@jupyter-widgets/controls",
            "_model_module_version": "1.5.0",
            "_model_name": "DescriptionStyleModel",
            "_view_count": null,
            "_view_module": "@jupyter-widgets/base",
            "_view_module_version": "1.2.0",
            "_view_name": "StyleView",
            "description_width": ""
          }
        },
        "c15cf66ea3cd4a2395fcd4a8e81577a8": {
          "model_module": "@jupyter-widgets/base",
          "model_name": "LayoutModel",
          "model_module_version": "1.2.0",
          "state": {
            "_model_module": "@jupyter-widgets/base",
            "_model_module_version": "1.2.0",
            "_model_name": "LayoutModel",
            "_view_count": null,
            "_view_module": "@jupyter-widgets/base",
            "_view_module_version": "1.2.0",
            "_view_name": "LayoutView",
            "align_content": null,
            "align_items": null,
            "align_self": null,
            "border": null,
            "bottom": null,
            "display": null,
            "flex": null,
            "flex_flow": null,
            "grid_area": null,
            "grid_auto_columns": null,
            "grid_auto_flow": null,
            "grid_auto_rows": null,
            "grid_column": null,
            "grid_gap": null,
            "grid_row": null,
            "grid_template_areas": null,
            "grid_template_columns": null,
            "grid_template_rows": null,
            "height": null,
            "justify_content": null,
            "justify_items": null,
            "left": null,
            "margin": null,
            "max_height": null,
            "max_width": null,
            "min_height": null,
            "min_width": null,
            "object_fit": null,
            "object_position": null,
            "order": null,
            "overflow": null,
            "overflow_x": null,
            "overflow_y": null,
            "padding": null,
            "right": null,
            "top": null,
            "visibility": null,
            "width": null
          }
        },
        "d60b6e309eca4f6f874851c7a1e3865b": {
          "model_module": "@jupyter-widgets/controls",
          "model_name": "ProgressStyleModel",
          "model_module_version": "1.5.0",
          "state": {
            "_model_module": "@jupyter-widgets/controls",
            "_model_module_version": "1.5.0",
            "_model_name": "ProgressStyleModel",
            "_view_count": null,
            "_view_module": "@jupyter-widgets/base",
            "_view_module_version": "1.2.0",
            "_view_name": "StyleView",
            "bar_color": null,
            "description_width": ""
          }
        },
        "e1c0946a0f6c4ea7a884a07885d61d6c": {
          "model_module": "@jupyter-widgets/base",
          "model_name": "LayoutModel",
          "model_module_version": "1.2.0",
          "state": {
            "_model_module": "@jupyter-widgets/base",
            "_model_module_version": "1.2.0",
            "_model_name": "LayoutModel",
            "_view_count": null,
            "_view_module": "@jupyter-widgets/base",
            "_view_module_version": "1.2.0",
            "_view_name": "LayoutView",
            "align_content": null,
            "align_items": null,
            "align_self": null,
            "border": null,
            "bottom": null,
            "display": null,
            "flex": null,
            "flex_flow": null,
            "grid_area": null,
            "grid_auto_columns": null,
            "grid_auto_flow": null,
            "grid_auto_rows": null,
            "grid_column": null,
            "grid_gap": null,
            "grid_row": null,
            "grid_template_areas": null,
            "grid_template_columns": null,
            "grid_template_rows": null,
            "height": null,
            "justify_content": null,
            "justify_items": null,
            "left": null,
            "margin": null,
            "max_height": null,
            "max_width": null,
            "min_height": null,
            "min_width": null,
            "object_fit": null,
            "object_position": null,
            "order": null,
            "overflow": null,
            "overflow_x": null,
            "overflow_y": null,
            "padding": null,
            "right": null,
            "top": null,
            "visibility": null,
            "width": null
          }
        },
        "c1440bcc3c0240659eb8525e22184320": {
          "model_module": "@jupyter-widgets/controls",
          "model_name": "DescriptionStyleModel",
          "model_module_version": "1.5.0",
          "state": {
            "_model_module": "@jupyter-widgets/controls",
            "_model_module_version": "1.5.0",
            "_model_name": "DescriptionStyleModel",
            "_view_count": null,
            "_view_module": "@jupyter-widgets/base",
            "_view_module_version": "1.2.0",
            "_view_name": "StyleView",
            "description_width": ""
          }
        },
        "d930b8c79aa8424cbfd818a89e2ee9c0": {
          "model_module": "@jupyter-widgets/controls",
          "model_name": "HTMLModel",
          "model_module_version": "1.5.0",
          "state": {
            "_dom_classes": [],
            "_model_module": "@jupyter-widgets/controls",
            "_model_module_version": "1.5.0",
            "_model_name": "HTMLModel",
            "_view_count": null,
            "_view_module": "@jupyter-widgets/controls",
            "_view_module_version": "1.5.0",
            "_view_name": "HTMLView",
            "description": "",
            "description_tooltip": null,
            "layout": "IPY_MODEL_6d3092ce0d6048d8ae455a99e1052cad",
            "placeholder": "​",
            "style": "IPY_MODEL_2c296d67abb549f185a2b26996ad1658",
            "value": "tokenizer.json: 100%"
          }
        },
        "ccd05e3619b5414eb1bf9ce9f913c5d3": {
          "model_module": "@jupyter-widgets/controls",
          "model_name": "FloatProgressModel",
          "model_module_version": "1.5.0",
          "state": {
            "_dom_classes": [],
            "_model_module": "@jupyter-widgets/controls",
            "_model_module_version": "1.5.0",
            "_model_name": "FloatProgressModel",
            "_view_count": null,
            "_view_module": "@jupyter-widgets/controls",
            "_view_module_version": "1.5.0",
            "_view_name": "ProgressView",
            "bar_style": "success",
            "description": "",
            "description_tooltip": null,
            "layout": "IPY_MODEL_2fd715ca107a4a71b151bfec71c3eea5",
            "max": 2203239,
            "min": 0,
            "orientation": "horizontal",
            "style": "IPY_MODEL_3fc70b60c45542f491b1871f11640e46",
            "value": 2203239
          }
        },
        "b726414959c646a4b14a26f8a44d90f7": {
          "model_module": "@jupyter-widgets/controls",
          "model_name": "HTMLModel",
          "model_module_version": "1.5.0",
          "state": {
            "_dom_classes": [],
            "_model_module": "@jupyter-widgets/controls",
            "_model_module_version": "1.5.0",
            "_model_name": "HTMLModel",
            "_view_count": null,
            "_view_module": "@jupyter-widgets/controls",
            "_view_module_version": "1.5.0",
            "_view_name": "HTMLView",
            "description": "",
            "description_tooltip": null,
            "layout": "IPY_MODEL_4c7f78de0e1e4cf19a65de57413cbed6",
            "placeholder": "​",
            "style": "IPY_MODEL_a3bacff32a774de8ac842331e18f2bd9",
            "value": " 2.20M/2.20M [00:00&lt;00:00, 7.40MB/s]"
          }
        },
        "48f8626f06e84af0ab16010f690df5a5": {
          "model_module": "@jupyter-widgets/base",
          "model_name": "LayoutModel",
          "model_module_version": "1.2.0",
          "state": {
            "_model_module": "@jupyter-widgets/base",
            "_model_module_version": "1.2.0",
            "_model_name": "LayoutModel",
            "_view_count": null,
            "_view_module": "@jupyter-widgets/base",
            "_view_module_version": "1.2.0",
            "_view_name": "LayoutView",
            "align_content": null,
            "align_items": null,
            "align_self": null,
            "border": null,
            "bottom": null,
            "display": null,
            "flex": null,
            "flex_flow": null,
            "grid_area": null,
            "grid_auto_columns": null,
            "grid_auto_flow": null,
            "grid_auto_rows": null,
            "grid_column": null,
            "grid_gap": null,
            "grid_row": null,
            "grid_template_areas": null,
            "grid_template_columns": null,
            "grid_template_rows": null,
            "height": null,
            "justify_content": null,
            "justify_items": null,
            "left": null,
            "margin": null,
            "max_height": null,
            "max_width": null,
            "min_height": null,
            "min_width": null,
            "object_fit": null,
            "object_position": null,
            "order": null,
            "overflow": null,
            "overflow_x": null,
            "overflow_y": null,
            "padding": null,
            "right": null,
            "top": null,
            "visibility": null,
            "width": null
          }
        },
        "6d3092ce0d6048d8ae455a99e1052cad": {
          "model_module": "@jupyter-widgets/base",
          "model_name": "LayoutModel",
          "model_module_version": "1.2.0",
          "state": {
            "_model_module": "@jupyter-widgets/base",
            "_model_module_version": "1.2.0",
            "_model_name": "LayoutModel",
            "_view_count": null,
            "_view_module": "@jupyter-widgets/base",
            "_view_module_version": "1.2.0",
            "_view_name": "LayoutView",
            "align_content": null,
            "align_items": null,
            "align_self": null,
            "border": null,
            "bottom": null,
            "display": null,
            "flex": null,
            "flex_flow": null,
            "grid_area": null,
            "grid_auto_columns": null,
            "grid_auto_flow": null,
            "grid_auto_rows": null,
            "grid_column": null,
            "grid_gap": null,
            "grid_row": null,
            "grid_template_areas": null,
            "grid_template_columns": null,
            "grid_template_rows": null,
            "height": null,
            "justify_content": null,
            "justify_items": null,
            "left": null,
            "margin": null,
            "max_height": null,
            "max_width": null,
            "min_height": null,
            "min_width": null,
            "object_fit": null,
            "object_position": null,
            "order": null,
            "overflow": null,
            "overflow_x": null,
            "overflow_y": null,
            "padding": null,
            "right": null,
            "top": null,
            "visibility": null,
            "width": null
          }
        },
        "2c296d67abb549f185a2b26996ad1658": {
          "model_module": "@jupyter-widgets/controls",
          "model_name": "DescriptionStyleModel",
          "model_module_version": "1.5.0",
          "state": {
            "_model_module": "@jupyter-widgets/controls",
            "_model_module_version": "1.5.0",
            "_model_name": "DescriptionStyleModel",
            "_view_count": null,
            "_view_module": "@jupyter-widgets/base",
            "_view_module_version": "1.2.0",
            "_view_name": "StyleView",
            "description_width": ""
          }
        },
        "2fd715ca107a4a71b151bfec71c3eea5": {
          "model_module": "@jupyter-widgets/base",
          "model_name": "LayoutModel",
          "model_module_version": "1.2.0",
          "state": {
            "_model_module": "@jupyter-widgets/base",
            "_model_module_version": "1.2.0",
            "_model_name": "LayoutModel",
            "_view_count": null,
            "_view_module": "@jupyter-widgets/base",
            "_view_module_version": "1.2.0",
            "_view_name": "LayoutView",
            "align_content": null,
            "align_items": null,
            "align_self": null,
            "border": null,
            "bottom": null,
            "display": null,
            "flex": null,
            "flex_flow": null,
            "grid_area": null,
            "grid_auto_columns": null,
            "grid_auto_flow": null,
            "grid_auto_rows": null,
            "grid_column": null,
            "grid_gap": null,
            "grid_row": null,
            "grid_template_areas": null,
            "grid_template_columns": null,
            "grid_template_rows": null,
            "height": null,
            "justify_content": null,
            "justify_items": null,
            "left": null,
            "margin": null,
            "max_height": null,
            "max_width": null,
            "min_height": null,
            "min_width": null,
            "object_fit": null,
            "object_position": null,
            "order": null,
            "overflow": null,
            "overflow_x": null,
            "overflow_y": null,
            "padding": null,
            "right": null,
            "top": null,
            "visibility": null,
            "width": null
          }
        },
        "3fc70b60c45542f491b1871f11640e46": {
          "model_module": "@jupyter-widgets/controls",
          "model_name": "ProgressStyleModel",
          "model_module_version": "1.5.0",
          "state": {
            "_model_module": "@jupyter-widgets/controls",
            "_model_module_version": "1.5.0",
            "_model_name": "ProgressStyleModel",
            "_view_count": null,
            "_view_module": "@jupyter-widgets/base",
            "_view_module_version": "1.2.0",
            "_view_name": "StyleView",
            "bar_color": null,
            "description_width": ""
          }
        },
        "4c7f78de0e1e4cf19a65de57413cbed6": {
          "model_module": "@jupyter-widgets/base",
          "model_name": "LayoutModel",
          "model_module_version": "1.2.0",
          "state": {
            "_model_module": "@jupyter-widgets/base",
            "_model_module_version": "1.2.0",
            "_model_name": "LayoutModel",
            "_view_count": null,
            "_view_module": "@jupyter-widgets/base",
            "_view_module_version": "1.2.0",
            "_view_name": "LayoutView",
            "align_content": null,
            "align_items": null,
            "align_self": null,
            "border": null,
            "bottom": null,
            "display": null,
            "flex": null,
            "flex_flow": null,
            "grid_area": null,
            "grid_auto_columns": null,
            "grid_auto_flow": null,
            "grid_auto_rows": null,
            "grid_column": null,
            "grid_gap": null,
            "grid_row": null,
            "grid_template_areas": null,
            "grid_template_columns": null,
            "grid_template_rows": null,
            "height": null,
            "justify_content": null,
            "justify_items": null,
            "left": null,
            "margin": null,
            "max_height": null,
            "max_width": null,
            "min_height": null,
            "min_width": null,
            "object_fit": null,
            "object_position": null,
            "order": null,
            "overflow": null,
            "overflow_x": null,
            "overflow_y": null,
            "padding": null,
            "right": null,
            "top": null,
            "visibility": null,
            "width": null
          }
        },
        "a3bacff32a774de8ac842331e18f2bd9": {
          "model_module": "@jupyter-widgets/controls",
          "model_name": "DescriptionStyleModel",
          "model_module_version": "1.5.0",
          "state": {
            "_model_module": "@jupyter-widgets/controls",
            "_model_module_version": "1.5.0",
            "_model_name": "DescriptionStyleModel",
            "_view_count": null,
            "_view_module": "@jupyter-widgets/base",
            "_view_module_version": "1.2.0",
            "_view_name": "StyleView",
            "description_width": ""
          }
        },
        "200c39301fc341fabc98937a8ee696a3": {
          "model_module": "@jupyter-widgets/controls",
          "model_name": "HTMLModel",
          "model_module_version": "1.5.0",
          "state": {
            "_dom_classes": [],
            "_model_module": "@jupyter-widgets/controls",
            "_model_module_version": "1.5.0",
            "_model_name": "HTMLModel",
            "_view_count": null,
            "_view_module": "@jupyter-widgets/controls",
            "_view_module_version": "1.5.0",
            "_view_name": "HTMLView",
            "description": "",
            "description_tooltip": null,
            "layout": "IPY_MODEL_17c77e33a65b4e3b8298ed3181604f2a",
            "placeholder": "​",
            "style": "IPY_MODEL_b088322267c140d29cd6999553b89bd8",
            "value": "config.json: 100%"
          }
        },
        "f49193f6d6284e5d82936161696d38c8": {
          "model_module": "@jupyter-widgets/controls",
          "model_name": "FloatProgressModel",
          "model_module_version": "1.5.0",
          "state": {
            "_dom_classes": [],
            "_model_module": "@jupyter-widgets/controls",
            "_model_module_version": "1.5.0",
            "_model_name": "FloatProgressModel",
            "_view_count": null,
            "_view_module": "@jupyter-widgets/controls",
            "_view_module_version": "1.5.0",
            "_view_name": "ProgressView",
            "bar_style": "success",
            "description": "",
            "description_tooltip": null,
            "layout": "IPY_MODEL_10f28fe14e2441b09a88b68ffcd0ccee",
            "max": 2249,
            "min": 0,
            "orientation": "horizontal",
            "style": "IPY_MODEL_eb8dd8cff8644f94886d23d07d5e7263",
            "value": 2249
          }
        },
        "f7d859482ef9438c9bfc47ac3a403cfa": {
          "model_module": "@jupyter-widgets/controls",
          "model_name": "HTMLModel",
          "model_module_version": "1.5.0",
          "state": {
            "_dom_classes": [],
            "_model_module": "@jupyter-widgets/controls",
            "_model_module_version": "1.5.0",
            "_model_name": "HTMLModel",
            "_view_count": null,
            "_view_module": "@jupyter-widgets/controls",
            "_view_module_version": "1.5.0",
            "_view_name": "HTMLView",
            "description": "",
            "description_tooltip": null,
            "layout": "IPY_MODEL_a4edb8ff27424a8780ae1c7856a50b40",
            "placeholder": "​",
            "style": "IPY_MODEL_4d4688cafd6f4a85a68c5f8a9ba3effe",
            "value": " 2.25k/2.25k [00:00&lt;00:00, 43.0kB/s]"
          }
        },
        "c047145b678f41d8a57417fb40b67346": {
          "model_module": "@jupyter-widgets/base",
          "model_name": "LayoutModel",
          "model_module_version": "1.2.0",
          "state": {
            "_model_module": "@jupyter-widgets/base",
            "_model_module_version": "1.2.0",
            "_model_name": "LayoutModel",
            "_view_count": null,
            "_view_module": "@jupyter-widgets/base",
            "_view_module_version": "1.2.0",
            "_view_name": "LayoutView",
            "align_content": null,
            "align_items": null,
            "align_self": null,
            "border": null,
            "bottom": null,
            "display": null,
            "flex": null,
            "flex_flow": null,
            "grid_area": null,
            "grid_auto_columns": null,
            "grid_auto_flow": null,
            "grid_auto_rows": null,
            "grid_column": null,
            "grid_gap": null,
            "grid_row": null,
            "grid_template_areas": null,
            "grid_template_columns": null,
            "grid_template_rows": null,
            "height": null,
            "justify_content": null,
            "justify_items": null,
            "left": null,
            "margin": null,
            "max_height": null,
            "max_width": null,
            "min_height": null,
            "min_width": null,
            "object_fit": null,
            "object_position": null,
            "order": null,
            "overflow": null,
            "overflow_x": null,
            "overflow_y": null,
            "padding": null,
            "right": null,
            "top": null,
            "visibility": null,
            "width": null
          }
        },
        "17c77e33a65b4e3b8298ed3181604f2a": {
          "model_module": "@jupyter-widgets/base",
          "model_name": "LayoutModel",
          "model_module_version": "1.2.0",
          "state": {
            "_model_module": "@jupyter-widgets/base",
            "_model_module_version": "1.2.0",
            "_model_name": "LayoutModel",
            "_view_count": null,
            "_view_module": "@jupyter-widgets/base",
            "_view_module_version": "1.2.0",
            "_view_name": "LayoutView",
            "align_content": null,
            "align_items": null,
            "align_self": null,
            "border": null,
            "bottom": null,
            "display": null,
            "flex": null,
            "flex_flow": null,
            "grid_area": null,
            "grid_auto_columns": null,
            "grid_auto_flow": null,
            "grid_auto_rows": null,
            "grid_column": null,
            "grid_gap": null,
            "grid_row": null,
            "grid_template_areas": null,
            "grid_template_columns": null,
            "grid_template_rows": null,
            "height": null,
            "justify_content": null,
            "justify_items": null,
            "left": null,
            "margin": null,
            "max_height": null,
            "max_width": null,
            "min_height": null,
            "min_width": null,
            "object_fit": null,
            "object_position": null,
            "order": null,
            "overflow": null,
            "overflow_x": null,
            "overflow_y": null,
            "padding": null,
            "right": null,
            "top": null,
            "visibility": null,
            "width": null
          }
        },
        "b088322267c140d29cd6999553b89bd8": {
          "model_module": "@jupyter-widgets/controls",
          "model_name": "DescriptionStyleModel",
          "model_module_version": "1.5.0",
          "state": {
            "_model_module": "@jupyter-widgets/controls",
            "_model_module_version": "1.5.0",
            "_model_name": "DescriptionStyleModel",
            "_view_count": null,
            "_view_module": "@jupyter-widgets/base",
            "_view_module_version": "1.2.0",
            "_view_name": "StyleView",
            "description_width": ""
          }
        },
        "10f28fe14e2441b09a88b68ffcd0ccee": {
          "model_module": "@jupyter-widgets/base",
          "model_name": "LayoutModel",
          "model_module_version": "1.2.0",
          "state": {
            "_model_module": "@jupyter-widgets/base",
            "_model_module_version": "1.2.0",
            "_model_name": "LayoutModel",
            "_view_count": null,
            "_view_module": "@jupyter-widgets/base",
            "_view_module_version": "1.2.0",
            "_view_name": "LayoutView",
            "align_content": null,
            "align_items": null,
            "align_self": null,
            "border": null,
            "bottom": null,
            "display": null,
            "flex": null,
            "flex_flow": null,
            "grid_area": null,
            "grid_auto_columns": null,
            "grid_auto_flow": null,
            "grid_auto_rows": null,
            "grid_column": null,
            "grid_gap": null,
            "grid_row": null,
            "grid_template_areas": null,
            "grid_template_columns": null,
            "grid_template_rows": null,
            "height": null,
            "justify_content": null,
            "justify_items": null,
            "left": null,
            "margin": null,
            "max_height": null,
            "max_width": null,
            "min_height": null,
            "min_width": null,
            "object_fit": null,
            "object_position": null,
            "order": null,
            "overflow": null,
            "overflow_x": null,
            "overflow_y": null,
            "padding": null,
            "right": null,
            "top": null,
            "visibility": null,
            "width": null
          }
        },
        "eb8dd8cff8644f94886d23d07d5e7263": {
          "model_module": "@jupyter-widgets/controls",
          "model_name": "ProgressStyleModel",
          "model_module_version": "1.5.0",
          "state": {
            "_model_module": "@jupyter-widgets/controls",
            "_model_module_version": "1.5.0",
            "_model_name": "ProgressStyleModel",
            "_view_count": null,
            "_view_module": "@jupyter-widgets/base",
            "_view_module_version": "1.2.0",
            "_view_name": "StyleView",
            "bar_color": null,
            "description_width": ""
          }
        },
        "a4edb8ff27424a8780ae1c7856a50b40": {
          "model_module": "@jupyter-widgets/base",
          "model_name": "LayoutModel",
          "model_module_version": "1.2.0",
          "state": {
            "_model_module": "@jupyter-widgets/base",
            "_model_module_version": "1.2.0",
            "_model_name": "LayoutModel",
            "_view_count": null,
            "_view_module": "@jupyter-widgets/base",
            "_view_module_version": "1.2.0",
            "_view_name": "LayoutView",
            "align_content": null,
            "align_items": null,
            "align_self": null,
            "border": null,
            "bottom": null,
            "display": null,
            "flex": null,
            "flex_flow": null,
            "grid_area": null,
            "grid_auto_columns": null,
            "grid_auto_flow": null,
            "grid_auto_rows": null,
            "grid_column": null,
            "grid_gap": null,
            "grid_row": null,
            "grid_template_areas": null,
            "grid_template_columns": null,
            "grid_template_rows": null,
            "height": null,
            "justify_content": null,
            "justify_items": null,
            "left": null,
            "margin": null,
            "max_height": null,
            "max_width": null,
            "min_height": null,
            "min_width": null,
            "object_fit": null,
            "object_position": null,
            "order": null,
            "overflow": null,
            "overflow_x": null,
            "overflow_y": null,
            "padding": null,
            "right": null,
            "top": null,
            "visibility": null,
            "width": null
          }
        },
        "4d4688cafd6f4a85a68c5f8a9ba3effe": {
          "model_module": "@jupyter-widgets/controls",
          "model_name": "DescriptionStyleModel",
          "model_module_version": "1.5.0",
          "state": {
            "_model_module": "@jupyter-widgets/controls",
            "_model_module_version": "1.5.0",
            "_model_name": "DescriptionStyleModel",
            "_view_count": null,
            "_view_module": "@jupyter-widgets/base",
            "_view_module_version": "1.2.0",
            "_view_name": "StyleView",
            "description_width": ""
          }
        },
        "ca87d9dff0af4741b978748479fd8e0f": {
          "model_module": "@jupyter-widgets/controls",
          "model_name": "HTMLModel",
          "model_module_version": "1.5.0",
          "state": {
            "_dom_classes": [],
            "_model_module": "@jupyter-widgets/controls",
            "_model_module_version": "1.5.0",
            "_model_name": "HTMLModel",
            "_view_count": null,
            "_view_module": "@jupyter-widgets/controls",
            "_view_module_version": "1.5.0",
            "_view_name": "HTMLView",
            "description": "",
            "description_tooltip": null,
            "layout": "IPY_MODEL_8168018ca0074478882b3fd6e41817c6",
            "placeholder": "​",
            "style": "IPY_MODEL_47b90b00baf34d839c5d55934e78b8ec",
            "value": "model.bin: 100%"
          }
        },
        "eb8a039527064c79b9401ea30084d85f": {
          "model_module": "@jupyter-widgets/controls",
          "model_name": "FloatProgressModel",
          "model_module_version": "1.5.0",
          "state": {
            "_dom_classes": [],
            "_model_module": "@jupyter-widgets/controls",
            "_model_module_version": "1.5.0",
            "_model_name": "FloatProgressModel",
            "_view_count": null,
            "_view_module": "@jupyter-widgets/controls",
            "_view_module_version": "1.5.0",
            "_view_name": "ProgressView",
            "bar_style": "success",
            "description": "",
            "description_tooltip": null,
            "layout": "IPY_MODEL_994343f0d54b4c3cb1d5a0f6e9c640d9",
            "max": 75538270,
            "min": 0,
            "orientation": "horizontal",
            "style": "IPY_MODEL_8286e7b497244494b6c738b546259c3b",
            "value": 75538270
          }
        },
        "43aa4904aac544a89c6555a073162303": {
          "model_module": "@jupyter-widgets/controls",
          "model_name": "HTMLModel",
          "model_module_version": "1.5.0",
          "state": {
            "_dom_classes": [],
            "_model_module": "@jupyter-widgets/controls",
            "_model_module_version": "1.5.0",
            "_model_name": "HTMLModel",
            "_view_count": null,
            "_view_module": "@jupyter-widgets/controls",
            "_view_module_version": "1.5.0",
            "_view_name": "HTMLView",
            "description": "",
            "description_tooltip": null,
            "layout": "IPY_MODEL_7435405af30343868e07958d74da8472",
            "placeholder": "​",
            "style": "IPY_MODEL_03c1fe13a8c144a5b6eb77191b822385",
            "value": " 75.5M/75.5M [00:00&lt;00:00, 107MB/s]"
          }
        },
        "aa7cd85a51db4bca88125a31a69a130e": {
          "model_module": "@jupyter-widgets/base",
          "model_name": "LayoutModel",
          "model_module_version": "1.2.0",
          "state": {
            "_model_module": "@jupyter-widgets/base",
            "_model_module_version": "1.2.0",
            "_model_name": "LayoutModel",
            "_view_count": null,
            "_view_module": "@jupyter-widgets/base",
            "_view_module_version": "1.2.0",
            "_view_name": "LayoutView",
            "align_content": null,
            "align_items": null,
            "align_self": null,
            "border": null,
            "bottom": null,
            "display": null,
            "flex": null,
            "flex_flow": null,
            "grid_area": null,
            "grid_auto_columns": null,
            "grid_auto_flow": null,
            "grid_auto_rows": null,
            "grid_column": null,
            "grid_gap": null,
            "grid_row": null,
            "grid_template_areas": null,
            "grid_template_columns": null,
            "grid_template_rows": null,
            "height": null,
            "justify_content": null,
            "justify_items": null,
            "left": null,
            "margin": null,
            "max_height": null,
            "max_width": null,
            "min_height": null,
            "min_width": null,
            "object_fit": null,
            "object_position": null,
            "order": null,
            "overflow": null,
            "overflow_x": null,
            "overflow_y": null,
            "padding": null,
            "right": null,
            "top": null,
            "visibility": null,
            "width": null
          }
        },
        "8168018ca0074478882b3fd6e41817c6": {
          "model_module": "@jupyter-widgets/base",
          "model_name": "LayoutModel",
          "model_module_version": "1.2.0",
          "state": {
            "_model_module": "@jupyter-widgets/base",
            "_model_module_version": "1.2.0",
            "_model_name": "LayoutModel",
            "_view_count": null,
            "_view_module": "@jupyter-widgets/base",
            "_view_module_version": "1.2.0",
            "_view_name": "LayoutView",
            "align_content": null,
            "align_items": null,
            "align_self": null,
            "border": null,
            "bottom": null,
            "display": null,
            "flex": null,
            "flex_flow": null,
            "grid_area": null,
            "grid_auto_columns": null,
            "grid_auto_flow": null,
            "grid_auto_rows": null,
            "grid_column": null,
            "grid_gap": null,
            "grid_row": null,
            "grid_template_areas": null,
            "grid_template_columns": null,
            "grid_template_rows": null,
            "height": null,
            "justify_content": null,
            "justify_items": null,
            "left": null,
            "margin": null,
            "max_height": null,
            "max_width": null,
            "min_height": null,
            "min_width": null,
            "object_fit": null,
            "object_position": null,
            "order": null,
            "overflow": null,
            "overflow_x": null,
            "overflow_y": null,
            "padding": null,
            "right": null,
            "top": null,
            "visibility": null,
            "width": null
          }
        },
        "47b90b00baf34d839c5d55934e78b8ec": {
          "model_module": "@jupyter-widgets/controls",
          "model_name": "DescriptionStyleModel",
          "model_module_version": "1.5.0",
          "state": {
            "_model_module": "@jupyter-widgets/controls",
            "_model_module_version": "1.5.0",
            "_model_name": "DescriptionStyleModel",
            "_view_count": null,
            "_view_module": "@jupyter-widgets/base",
            "_view_module_version": "1.2.0",
            "_view_name": "StyleView",
            "description_width": ""
          }
        },
        "994343f0d54b4c3cb1d5a0f6e9c640d9": {
          "model_module": "@jupyter-widgets/base",
          "model_name": "LayoutModel",
          "model_module_version": "1.2.0",
          "state": {
            "_model_module": "@jupyter-widgets/base",
            "_model_module_version": "1.2.0",
            "_model_name": "LayoutModel",
            "_view_count": null,
            "_view_module": "@jupyter-widgets/base",
            "_view_module_version": "1.2.0",
            "_view_name": "LayoutView",
            "align_content": null,
            "align_items": null,
            "align_self": null,
            "border": null,
            "bottom": null,
            "display": null,
            "flex": null,
            "flex_flow": null,
            "grid_area": null,
            "grid_auto_columns": null,
            "grid_auto_flow": null,
            "grid_auto_rows": null,
            "grid_column": null,
            "grid_gap": null,
            "grid_row": null,
            "grid_template_areas": null,
            "grid_template_columns": null,
            "grid_template_rows": null,
            "height": null,
            "justify_content": null,
            "justify_items": null,
            "left": null,
            "margin": null,
            "max_height": null,
            "max_width": null,
            "min_height": null,
            "min_width": null,
            "object_fit": null,
            "object_position": null,
            "order": null,
            "overflow": null,
            "overflow_x": null,
            "overflow_y": null,
            "padding": null,
            "right": null,
            "top": null,
            "visibility": null,
            "width": null
          }
        },
        "8286e7b497244494b6c738b546259c3b": {
          "model_module": "@jupyter-widgets/controls",
          "model_name": "ProgressStyleModel",
          "model_module_version": "1.5.0",
          "state": {
            "_model_module": "@jupyter-widgets/controls",
            "_model_module_version": "1.5.0",
            "_model_name": "ProgressStyleModel",
            "_view_count": null,
            "_view_module": "@jupyter-widgets/base",
            "_view_module_version": "1.2.0",
            "_view_name": "StyleView",
            "bar_color": null,
            "description_width": ""
          }
        },
        "7435405af30343868e07958d74da8472": {
          "model_module": "@jupyter-widgets/base",
          "model_name": "LayoutModel",
          "model_module_version": "1.2.0",
          "state": {
            "_model_module": "@jupyter-widgets/base",
            "_model_module_version": "1.2.0",
            "_model_name": "LayoutModel",
            "_view_count": null,
            "_view_module": "@jupyter-widgets/base",
            "_view_module_version": "1.2.0",
            "_view_name": "LayoutView",
            "align_content": null,
            "align_items": null,
            "align_self": null,
            "border": null,
            "bottom": null,
            "display": null,
            "flex": null,
            "flex_flow": null,
            "grid_area": null,
            "grid_auto_columns": null,
            "grid_auto_flow": null,
            "grid_auto_rows": null,
            "grid_column": null,
            "grid_gap": null,
            "grid_row": null,
            "grid_template_areas": null,
            "grid_template_columns": null,
            "grid_template_rows": null,
            "height": null,
            "justify_content": null,
            "justify_items": null,
            "left": null,
            "margin": null,
            "max_height": null,
            "max_width": null,
            "min_height": null,
            "min_width": null,
            "object_fit": null,
            "object_position": null,
            "order": null,
            "overflow": null,
            "overflow_x": null,
            "overflow_y": null,
            "padding": null,
            "right": null,
            "top": null,
            "visibility": null,
            "width": null
          }
        },
        "03c1fe13a8c144a5b6eb77191b822385": {
          "model_module": "@jupyter-widgets/controls",
          "model_name": "DescriptionStyleModel",
          "model_module_version": "1.5.0",
          "state": {
            "_model_module": "@jupyter-widgets/controls",
            "_model_module_version": "1.5.0",
            "_model_name": "DescriptionStyleModel",
            "_view_count": null,
            "_view_module": "@jupyter-widgets/base",
            "_view_module_version": "1.2.0",
            "_view_name": "StyleView",
            "description_width": ""
          }
        }
      }
    }
  },
  "cells": [
    {
      "cell_type": "markdown",
      "metadata": {
        "id": "view-in-github",
        "colab_type": "text"
      },
      "source": [
        "<a href=\"https://colab.research.google.com/github/runfish5/tiny-tutorials/blob/main/discord-transcription-bot/jupyter-notebooks/Discord_bot_notebook_WhisperX_CPU.ipynb\" target=\"_parent\"><img src=\"https://colab.research.google.com/assets/colab-badge.svg\" alt=\"Open In Colab\"/></a>"
      ]
    },
    {
      "cell_type": "markdown",
      "source": [
        "#<font color='winered'>Step 2: Turn on bot"
      ],
      "metadata": {
        "id": "bUmtkxL7wzuQ"
      }
    },
    {
      "cell_type": "code",
      "source": [
        "#@title Install requirements\n",
        "%%capture\n",
        "'''\n",
        "This is more cumbersome than necessary, but\n",
        "this way it creates a requirements.txt\n",
        "which is desirable.\n",
        "'''\n",
        "\n",
        "content = \"\"\"py-cord\n",
        "python-dotenv\"\"\"\n",
        "\n",
        "with open(\"requirements.txt\", \"w\") as file:\n",
        "    file.write(content)\n",
        "\n",
        "print(\"requirements.txt has been created.\")\n",
        "\n",
        "!pip install -r ./requirements.txt\n",
        "!pip install PyNaCl\n",
        "!pip install nest_asyncio\n",
        "\n",
        "\n",
        "%cd /content/\n",
        "!rm -rf /content/tiny-tutorials\n",
        "!git clone https://github.com/runfish5/tiny-tutorials.git\n",
        "\n",
        "%cd /content/tiny-tutorials/discord-transcription-bot"
      ],
      "metadata": {
        "id": "YY-6zMibneNr",
        "cellView": "form"
      },
      "execution_count": 1,
      "outputs": []
    },
    {
      "cell_type": "code",
      "source": [
        "#@title import packages\n",
        "import tempfile,  os, discord, asyncio, nest_asyncio\n",
        "nest_asyncio.apply()\n",
        "\n",
        "from pprint import pprint\n",
        "from dotenv import load_dotenv"
      ],
      "metadata": {
        "id": "YyFWf8Q12U9W",
        "cellView": "form"
      },
      "execution_count": 2,
      "outputs": []
    },
    {
      "cell_type": "code",
      "source": [
        "#@title Load environment\n",
        "env_content = \"\"\"DISCORD_BOT_TOKEN=<insert-secret-access-token>\n",
        "\"\"\"\n",
        "with open(\".env\", \"w\") as env_file:\n",
        "    env_file.write(env_content)\n",
        "\n",
        "!pwd\n",
        "load_dotenv()"
      ],
      "metadata": {
        "id": "KUOnfH0k0VtD",
        "colab": {
          "base_uri": "https://localhost:8080/"
        },
        "outputId": "2fe27382-a21b-4323-a34f-c1d0e18bb432"
      },
      "execution_count": 3,
      "outputs": [
        {
          "output_type": "stream",
          "name": "stdout",
          "text": [
            "/content/tiny-tutorials/discord-transcription-bot\n"
          ]
        },
        {
          "output_type": "execute_result",
          "data": {
            "text/plain": [
              "True"
            ]
          },
          "metadata": {},
          "execution_count": 3
        }
      ]
    },
    {
      "cell_type": "code",
      "source": [
        "#@title Define Helper function\n",
        "\n",
        "'''Get bot status'''\n",
        "\n",
        "def get_bot_status():\n",
        "  if 'bot_task' in globals() and not bot_task.done():\n",
        "      print(\"Bot is RUNNING. 🔴 \")\n",
        "  else:\n",
        "      print(\"Bot is NOT (!) running. 🛑\")\n",
        "\n",
        "get_bot_status()"
      ],
      "metadata": {
        "colab": {
          "base_uri": "https://localhost:8080/"
        },
        "id": "Cm1EzwTvxkhB",
        "outputId": "ef3675a6-f329-4941-994b-262ba85ad707"
      },
      "execution_count": 4,
      "outputs": [
        {
          "output_type": "stream",
          "name": "stdout",
          "text": [
            "Bot is NOT (!) running. 🛑\n"
          ]
        }
      ]
    },
    {
      "cell_type": "code",
      "source": [
        "#@title Execute main.py\n",
        "%cd /content/tiny-tutorials/discord-transcription-bot\n",
        "exec(open(\"main.py\").read())\n",
        "\n",
        "# Global process flag\n",
        "running = True\n",
        "\n",
        "async def keep_alive():\n",
        "    global running\n",
        "    while running:\n",
        "        await asyncio.sleep(1)  # Keep the loop alive without blocking\n",
        "\n",
        "# Start the bot and the keep-alive task\n",
        "loop = asyncio.get_event_loop()\n",
        "bot_task = loop.create_task(run_bot())\n",
        "keep_alive_task = loop.create_task(keep_alive())\n",
        "\n",
        "get_bot_status()"
      ],
      "metadata": {
        "colab": {
          "base_uri": "https://localhost:8080/"
        },
        "id": "hb6N_VkC8sa-",
        "outputId": "d271fdb1-ecf6-4f11-e600-dcbd4ba1882f"
      },
      "execution_count": 5,
      "outputs": [
        {
          "output_type": "stream",
          "name": "stdout",
          "text": [
            "/content/tiny-tutorials/discord-transcription-bot\n",
            "This script is meant to be run from the notebook.\n",
            "Bot is RUNNING. 🔴 \n"
          ]
        }
      ]
    },
    {
      "cell_type": "code",
      "source": [
        "#@title bot: off-switch\n",
        "\n",
        "await bot.close()\n",
        "running = False\n",
        "\n",
        "get_bot_status()"
      ],
      "metadata": {
        "colab": {
          "base_uri": "https://localhost:8080/"
        },
        "id": "ytJKjyeV7a-o",
        "outputId": "dfe679a0-e360-4436-a4d2-477fc84f2ae3"
      },
      "execution_count": 6,
      "outputs": [
        {
          "output_type": "stream",
          "name": "stdout",
          "text": [
            "Bot is RUNNING. 🔴 \n"
          ]
        }
      ]
    },
    {
      "cell_type": "code",
      "source": [
        "#@title 💾 zip it\n",
        "'''\n",
        "For downloads we zip it.\n",
        "(Google Colab doesn't support download and upload of directories.)\n",
        "'''\n",
        "from datetime import datetime\n",
        "# Get current date in yymmdd format\n",
        "current_date = datetime.now().strftime(\"%y%m%d\")\n",
        "\n",
        "# Create base zip filename with date prefix\n",
        "base_zip_filename = f\"{current_date}_recordings.zip\"\n",
        "\n",
        "# Check if file exists and add version number if needed\n",
        "i = 1\n",
        "zip_filename = base_zip_filename\n",
        "while os.path.exists(zip_filename):\n",
        "    zip_filename = f\"{current_date}_recordings_{i}.zip\"\n",
        "    i += 1\n",
        "\n",
        "# Zip the recordings directory with the dated filename\n",
        "!zip -r {zip_filename} recordings\n",
        "\n",
        "print(f\"{''}Created zip file: {zip_filename}{''}\")"
      ],
      "metadata": {
        "colab": {
          "base_uri": "https://localhost:8080/"
        },
        "outputId": "3edbe543-8636-4f6b-afc9-8682f859a717",
        "id": "tmX8XSRpi8g9"
      },
      "execution_count": 7,
      "outputs": [
        {
          "output_type": "stream",
          "name": "stdout",
          "text": [
            "  adding: recordings/ (stored 0%)\n",
            "Created zip file: 250509_recordings.zip\n"
          ]
        }
      ]
    },
    {
      "cell_type": "markdown",
      "source": [
        "#<font color='winered'>ASR\n",
        "\n",
        "In this section the recordings are transcribed."
      ],
      "metadata": {
        "id": "6zhRZvgWVBHa"
      }
    },
    {
      "cell_type": "markdown",
      "source": [
        "##<font color='magenta'> Step : Setup WhisperX"
      ],
      "metadata": {
        "id": "6jNF4YmKrt1V"
      }
    },
    {
      "cell_type": "markdown",
      "source": [
        "<font color='red'> RESTART SESSION"
      ],
      "metadata": {
        "id": "n5pfgK3mzceh"
      }
    },
    {
      "cell_type": "code",
      "source": [
        "%cd /content\n",
        "asr_model = 'WHISPERX'"
      ],
      "metadata": {
        "colab": {
          "base_uri": "https://localhost:8080/"
        },
        "id": "KZIw_g9GnxTz",
        "outputId": "4f563ae9-c583-442d-c7b8-637ac69b6b23"
      },
      "execution_count": 8,
      "outputs": [
        {
          "output_type": "stream",
          "name": "stdout",
          "text": [
            "/content\n"
          ]
        }
      ]
    },
    {
      "cell_type": "code",
      "source": [
        "#@title Define script Helpers\n",
        "\n",
        "GREEN = \"\\033[92m\"\n",
        "YELLOW = \"\\033[93m\"\n",
        "BLUE = \"\\033[94m\"\n",
        "CYAN = \"\\033[96m\"\n",
        "RESET = \"\\033[0m\"\n",
        "MAGENTA = '\\033[35m'\n",
        "RED = '\\033[31m'\n",
        "ORANGE = \"\\033[38;5;208m\"\n",
        "RESET = '\\033[0m'\n"
      ],
      "metadata": {
        "id": "hOpiRLFXZ49x",
        "cellView": "form"
      },
      "execution_count": 9,
      "outputs": []
    },
    {
      "cell_type": "code",
      "source": [
        "#@title pip install whisperx Whisper X\n",
        "%%capture\n",
        "\"\"\"\n",
        "Takes some time. (> 2 min 30 sec).\n",
        "Have to install whisperx copy (transcription AI engine).\n",
        "\"\"\"\n",
        "try:\n",
        "    import whisperx\n",
        "except ImportError:\n",
        "    # !pip install whisperx\n",
        "    !pip install git+https://github.com/m-bain/whisperx.git --upgrade\n",
        "    import whisperx"
      ],
      "metadata": {
        "id": "5EtQc6esV_BE"
      },
      "execution_count": 10,
      "outputs": []
    },
    {
      "cell_type": "code",
      "source": [
        "#@title set your parameters Whisper X\n",
        "# Whisper is on large-v2 by default\n",
        "model_size = 'tiny' #@param [\"tiny\", \"small\", \"medium\", \"large-v2\", \"tiny.en\", \"small.en\", \"medium.en\"]\n",
        "device = 'cpu' #@param [\"cpu\", \"cuda\"]\n",
        "audio_file_language = 'en' #@param [\"en\"]"
      ],
      "metadata": {
        "id": "cIte_T2gYfRi"
      },
      "execution_count": 11,
      "outputs": []
    },
    {
      "cell_type": "markdown",
      "source": [
        "<font color='red'>I haven't figured out how to run WhisperX on google colab GPUs. I'm sorry."
      ],
      "metadata": {
        "id": "2Fv6LmF5bK2J"
      }
    },
    {
      "cell_type": "code",
      "source": [
        "!pwd\n",
        "%cd /content/tiny-tutorials/discord-transcription-bot"
      ],
      "metadata": {
        "colab": {
          "base_uri": "https://localhost:8080/"
        },
        "id": "76duVeIkpEML",
        "outputId": "a665a95d-827d-4a00-dffc-59120dd3dc07"
      },
      "execution_count": 12,
      "outputs": [
        {
          "output_type": "stream",
          "name": "stdout",
          "text": [
            "/content\n",
            "/content/tiny-tutorials/discord-transcription-bot\n"
          ]
        }
      ]
    },
    {
      "cell_type": "code",
      "source": [
        "#@title set the AI model Whisper X\n",
        "\n",
        "\n",
        "import whisperx\n",
        "import gc\n",
        "import model_config\n",
        "import torch\n",
        "\n",
        "\n",
        "batch_size = 16 # reduce if low on GPU mem\n",
        "if device == 'cpu':\n",
        "  compute_type = 'auto'\n",
        "else:\n",
        "    torch.backends.cuda.matmul.allow_tf32 = True\n",
        "    torch.backends.cudnn.allow_tf32 = True\n",
        "    compute_type = \"float16\" # change to \"int8\" if low on GPU mem (may reduce accuracy)\n",
        "\n",
        "\n",
        "# 1. Transcribe with original whisper (batched)\n",
        "model_config.model = whisperx.load_model(model_size, device, compute_type=compute_type)\n",
        "\n",
        "model_a, metadata_model_a = whisperx.load_align_model(language_code=audio_file_language,#result[\"language\"],\n",
        "                                              device=device)\n",
        "\n",
        "print(metadata_model_a)\n",
        "print(\"\\nModel assigned to configuration\")\n"
      ],
      "metadata": {
        "colab": {
          "base_uri": "https://localhost:8080/",
          "height": 443,
          "referenced_widgets": [
            "238cd1d41d2744558eebcd942655f716",
            "75e6c71f68bc429d8c97c00390a664f3",
            "ed3280188fbc48daa48488d03b1791f6",
            "70bf7b0cb9104b0a914e42f805af7fbe",
            "ee98eb3fd3e14e5f9f692da00910e964",
            "0ba6f152cb4f412084f72926d01769c4",
            "6c828111096341cba36ca27fdc60d038",
            "7875630c7e4240849e97571beaba8ea8",
            "3a17cf13c28a4d7aaf3f450dd6a1816d",
            "c7ece8f6ca1349059bcaf642e30c3fb6",
            "c15cf66ea3cd4a2395fcd4a8e81577a8",
            "d60b6e309eca4f6f874851c7a1e3865b",
            "e1c0946a0f6c4ea7a884a07885d61d6c",
            "c1440bcc3c0240659eb8525e22184320",
            "d930b8c79aa8424cbfd818a89e2ee9c0",
            "ccd05e3619b5414eb1bf9ce9f913c5d3",
            "b726414959c646a4b14a26f8a44d90f7",
            "48f8626f06e84af0ab16010f690df5a5",
            "6d3092ce0d6048d8ae455a99e1052cad",
            "2c296d67abb549f185a2b26996ad1658",
            "2fd715ca107a4a71b151bfec71c3eea5",
            "3fc70b60c45542f491b1871f11640e46",
            "4c7f78de0e1e4cf19a65de57413cbed6",
            "a3bacff32a774de8ac842331e18f2bd9",
            "200c39301fc341fabc98937a8ee696a3",
            "f49193f6d6284e5d82936161696d38c8",
            "f7d859482ef9438c9bfc47ac3a403cfa",
            "c047145b678f41d8a57417fb40b67346",
            "17c77e33a65b4e3b8298ed3181604f2a",
            "b088322267c140d29cd6999553b89bd8",
            "10f28fe14e2441b09a88b68ffcd0ccee",
            "eb8dd8cff8644f94886d23d07d5e7263",
            "a4edb8ff27424a8780ae1c7856a50b40",
            "4d4688cafd6f4a85a68c5f8a9ba3effe",
            "ca87d9dff0af4741b978748479fd8e0f",
            "eb8a039527064c79b9401ea30084d85f",
            "43aa4904aac544a89c6555a073162303",
            "aa7cd85a51db4bca88125a31a69a130e",
            "8168018ca0074478882b3fd6e41817c6",
            "47b90b00baf34d839c5d55934e78b8ec",
            "994343f0d54b4c3cb1d5a0f6e9c640d9",
            "8286e7b497244494b6c738b546259c3b",
            "7435405af30343868e07958d74da8472",
            "03c1fe13a8c144a5b6eb77191b822385"
          ]
        },
        "outputId": "35eb82f9-c7f5-4fb5-c393-78cc3ddc3974",
        "id": "OWE2qaHvVv50"
      },
      "execution_count": 13,
      "outputs": [
        {
          "output_type": "stream",
          "name": "stderr",
          "text": [
            "DEBUG:speechbrain.utils.checkpoints:Registered checkpoint save hook for _speechbrain_save\n",
            "DEBUG:speechbrain.utils.checkpoints:Registered checkpoint load hook for _speechbrain_load\n",
            "DEBUG:speechbrain.utils.checkpoints:Registered checkpoint save hook for save\n",
            "DEBUG:speechbrain.utils.checkpoints:Registered checkpoint load hook for load\n",
            "DEBUG:speechbrain.utils.checkpoints:Registered checkpoint save hook for _save\n",
            "DEBUG:speechbrain.utils.checkpoints:Registered checkpoint load hook for _recover\n"
          ]
        },
        {
          "output_type": "display_data",
          "data": {
            "text/plain": [
              "vocabulary.txt:   0%|          | 0.00/460k [00:00<?, ?B/s]"
            ],
            "application/vnd.jupyter.widget-view+json": {
              "version_major": 2,
              "version_minor": 0,
              "model_id": "238cd1d41d2744558eebcd942655f716"
            }
          },
          "metadata": {}
        },
        {
          "output_type": "display_data",
          "data": {
            "text/plain": [
              "tokenizer.json:   0%|          | 0.00/2.20M [00:00<?, ?B/s]"
            ],
            "application/vnd.jupyter.widget-view+json": {
              "version_major": 2,
              "version_minor": 0,
              "model_id": "75e6c71f68bc429d8c97c00390a664f3"
            }
          },
          "metadata": {}
        },
        {
          "output_type": "display_data",
          "data": {
            "text/plain": [
              "config.json:   0%|          | 0.00/2.25k [00:00<?, ?B/s]"
            ],
            "application/vnd.jupyter.widget-view+json": {
              "version_major": 2,
              "version_minor": 0,
              "model_id": "ed3280188fbc48daa48488d03b1791f6"
            }
          },
          "metadata": {}
        },
        {
          "output_type": "display_data",
          "data": {
            "text/plain": [
              "model.bin:   0%|          | 0.00/75.5M [00:00<?, ?B/s]"
            ],
            "application/vnd.jupyter.widget-view+json": {
              "version_major": 2,
              "version_minor": 0,
              "model_id": "70bf7b0cb9104b0a914e42f805af7fbe"
            }
          },
          "metadata": {}
        },
        {
          "output_type": "stream",
          "name": "stdout",
          "text": [
            "No language specified, language will be first be detected for each audio file (increases inference time).\n",
            ">>Performing voice activity detection using Pyannote...\n"
          ]
        },
        {
          "output_type": "stream",
          "name": "stderr",
          "text": [
            "INFO:pytorch_lightning.utilities.migration.utils:Lightning automatically upgraded your loaded checkpoint from v1.5.4 to v2.5.1.post0. To apply the upgrade to your files permanently, run `python -m pytorch_lightning.utilities.upgrade_checkpoint ../../../usr/local/lib/python3.11/dist-packages/whisperx/assets/pytorch_model.bin`\n"
          ]
        },
        {
          "output_type": "stream",
          "name": "stdout",
          "text": [
            "Model was trained with pyannote.audio 0.0.1, yours is 3.3.2. Bad things might happen unless you revert pyannote.audio to 0.x.\n",
            "Model was trained with torch 1.10.0+cu102, yours is 2.6.0+cu124. Bad things might happen unless you revert torch to 1.x.\n"
          ]
        },
        {
          "output_type": "stream",
          "name": "stderr",
          "text": [
            "Downloading: \"https://download.pytorch.org/torchaudio/models/wav2vec2_fairseq_base_ls960_asr_ls960.pth\" to /root/.cache/torch/hub/checkpoints/wav2vec2_fairseq_base_ls960_asr_ls960.pth\n",
            "100%|██████████| 360M/360M [00:01<00:00, 269MB/s]\n"
          ]
        },
        {
          "output_type": "stream",
          "name": "stdout",
          "text": [
            "{'language': 'en', 'dictionary': {'-': 0, '|': 1, 'e': 2, 't': 3, 'a': 4, 'o': 5, 'n': 6, 'i': 7, 'h': 8, 's': 9, 'r': 10, 'd': 11, 'l': 12, 'u': 13, 'm': 14, 'w': 15, 'c': 16, 'f': 17, 'g': 18, 'y': 19, 'p': 20, 'b': 21, 'v': 22, 'k': 23, \"'\": 24, 'x': 25, 'j': 26, 'q': 27, 'z': 28}, 'type': 'torchaudio'}\n",
            "\n",
            "Model assigned to configuration\n"
          ]
        }
      ]
    },
    {
      "cell_type": "code",
      "source": [
        "#@title testing\n",
        "# =============================================================================\n",
        "\n",
        "# #get Sample from Nvidia:\n",
        "# !wget -P /content https://dldata-public.s3.us-east-2.amazonaws.com/2086-149220-0033.wav\n",
        "# audio_path = '/content/2086-149220-0033.wav'\n",
        "\n",
        "# audio = whisperx.load_audio(audio_path)\n",
        "# transcription = model.transcribe(audio, batch_size=batch_size)\n",
        "\n",
        "# print(\"Transcription done:\")\n",
        "# print(f\"{transcription['segments'][0]['text'][:100]} ...\")"
      ],
      "metadata": {
        "id": "gJXTNoUo0d-m"
      },
      "execution_count": 14,
      "outputs": []
    },
    {
      "cell_type": "markdown",
      "source": [
        "##<font color='magenta'>Step 3: Transcribe Audio Files"
      ],
      "metadata": {
        "id": "w8CoBsWABuLZ"
      }
    },
    {
      "cell_type": "code",
      "source": [
        "!pwd\n",
        "%cd /content/tiny-tutorials/discord-transcription-bot"
      ],
      "metadata": {
        "colab": {
          "base_uri": "https://localhost:8080/"
        },
        "id": "aVc98N-jrhS5",
        "outputId": "2a9e9d65-2c72-41bd-b3bd-d63d56f81672"
      },
      "execution_count": null,
      "outputs": [
        {
          "output_type": "stream",
          "name": "stdout",
          "text": [
            "/content/tiny-tutorials/discord-transcription-bot\n",
            "/content/tiny-tutorials/discord-transcription-bot\n"
          ]
        }
      ]
    },
    {
      "cell_type": "code",
      "source": [
        "#@title Download sample audio folder (no need to execute)\n",
        "'''\n",
        "not required if you recorded your discord session\n",
        "'''\n",
        "# import gdown\n",
        "\n",
        "# # Replace with your shared link\n",
        "# shared_link = \"https://drive.google.com/file/d/1tEu6xqF9DMQ9FEcXZ4guG3uymxiVEtcZ/view?usp=sharing\"\n",
        "# shared_link = \"https://drive.google.com/file/d/1ouoroEO0tbBGXs4LNDCF9vwaM9306jZF/view?usp=sharing\"\n",
        "# # Extract the file ID from the shared link\n",
        "# file_id = shared_link.split(\"/\")[5]\n",
        "\n",
        "# # Download the file\n",
        "# output_path = \"/content/downloaded_file.zip\"\n",
        "\n",
        "# gdown.download(f\"https://drive.google.com/uc?id={file_id}\", output_path, quiet=False)\n",
        "# import zipfile\n",
        "\n",
        "# # Unzip the file\n",
        "# with zipfile.ZipFile(output_path, 'r') as zip_ref:\n",
        "#     zip_ref.extractall(\"/content/extracted_files\")\n",
        "\n",
        "\n",
        "# # ==================================================\n",
        "# #@title COPY THE RECORDINGS (.wav)\n",
        "\n",
        "# import os\n",
        "# import shutil\n",
        "\n",
        "# # Check if the 'recordings' directory is empty\n",
        "# recordings_dir = \"recordings\"\n",
        "# if not os.listdir(recordings_dir):\n",
        "#     # Copy the recordings directory from /content/extracted_files/ to current directory\n",
        "#     shutil.copytree(\"/content/extracted_files/recordings\", recordings_dir, dirs_exist_ok=True)"
      ],
      "metadata": {
        "colab": {
          "base_uri": "https://localhost:8080/"
        },
        "id": "GgY0Rks_fuGe",
        "outputId": "f5b3c5a9-4323-426b-aea4-f51fc9e1dd32"
      },
      "execution_count": 15,
      "outputs": [
        {
          "output_type": "stream",
          "name": "stderr",
          "text": [
            "Downloading...\n",
            "From: https://drive.google.com/uc?id=1ouoroEO0tbBGXs4LNDCF9vwaM9306jZF\n",
            "To: /content/downloaded_file.zip\n",
            "100%|██████████| 1.61M/1.61M [00:00<00:00, 69.2MB/s]\n"
          ]
        }
      ]
    },
    {
      "cell_type": "code",
      "source": [
        "!pwd\n",
        "%cd /content/tiny-tutorials/discord-transcription-bot"
      ],
      "metadata": {
        "colab": {
          "base_uri": "https://localhost:8080/"
        },
        "id": "imNa9dwEiEK4",
        "outputId": "49f31fac-9df5-404b-e146-d7d6937d99fd"
      },
      "execution_count": 23,
      "outputs": [
        {
          "output_type": "stream",
          "name": "stdout",
          "text": [
            "/content/tiny-tutorials/discord-transcription-bot\n",
            "/content/tiny-tutorials/discord-transcription-bot\n"
          ]
        }
      ]
    },
    {
      "cell_type": "code",
      "source": [
        "#@title transcribe_all_recordings WHISPERX\n",
        "\n",
        "import os\n",
        "import json\n",
        "import time\n",
        "import model_config  # Assuming this module defines the Whisper model\n",
        "\n",
        "def transcribe_all_recordings(skip_existing=True):\n",
        "    \"\"\"\n",
        "    Transcribes all audio recordings in the 'recordings' directory using the Whisper model.\n",
        "    Saves transcriptions as text files and updates metadata.json for each user.\n",
        "    If skip_existing is True, it will not re-transcribe already existing transcription files.\n",
        "    \"\"\"\n",
        "    model_config.model = model_config.model  # Ensure model is set (redundant here if already set)\n",
        "    print(f\"Model: {model_config.model}\")  # Print the model object itself\n",
        "    print(f\"Model Config: {model_config}\") # Print the configuration\n",
        "\n",
        "    recordings_dir = \"recordings\"\n",
        "    if not os.path.exists(recordings_dir):\n",
        "        print(\"Error: The 'recordings' directory does not exist.\")\n",
        "        return\n",
        "\n",
        "    for user_id in os.listdir(recordings_dir):\n",
        "        user_dir = os.path.join(recordings_dir, user_id)\n",
        "        if not os.path.isdir(user_dir):\n",
        "            continue\n",
        "\n",
        "        metadata_path = os.path.join(user_dir, \"metadata.json\")\n",
        "        if not os.path.exists(metadata_path):\n",
        "            print(f\"Warning: No metadata.json found for user {user_id}. Skipping.\")\n",
        "            continue\n",
        "\n",
        "        with open(metadata_path, \"r\") as f:\n",
        "            metadata = json.load(f)\n",
        "\n",
        "        for recording in metadata.get(\"recordings\", []):\n",
        "            audio_file = recording.get(\"audio_file\")\n",
        "            if not audio_file:\n",
        "                print(f\"Warning: No audio_file specified in metadata for user {user_id}. Skipping entry.\")\n",
        "                continue\n",
        "\n",
        "            audio_path = os.path.join(user_dir, audio_file)\n",
        "            if not os.path.exists(audio_path):\n",
        "                print(f\"Warning: Audio file {audio_path} not found. Skipping.\")\n",
        "                continue\n",
        "\n",
        "            transcription_file = f\"{os.path.splitext(audio_file)[0]}_transcription.txt\"\n",
        "            transcription_path = os.path.join(user_dir, transcription_file)\n",
        "\n",
        "            if skip_existing and os.path.exists(transcription_path):\n",
        "                print(f\"Skipping existing transcription for {audio_file}.\")\n",
        "                continue\n",
        "\n",
        "            try:\n",
        "                start_time = time.time()\n",
        "                # print_audio_length(audio_path)\n",
        "                audio = whisperx.load_audio(audio_path)\n",
        "                transcription = model_config.model.transcribe(audio)\n",
        "                transcription = whisperx.align(transcription[\"segments\"],\n",
        "                                               model_a,\n",
        "                                               metadata_model_a,\n",
        "                                               audio,\n",
        "                                               device,\n",
        "                                               return_char_alignments=False)\n",
        "                transcription_text = transcription if transcription.get('segments', None) else transcription[\"text\"]\n",
        "                end_time = time.time()\n",
        "                duration = end_time - start_time\n",
        "            except Exception as e:\n",
        "                print(f\"Error: Failed to transcribe {audio_path}: {str(e)}\")\n",
        "                continue\n",
        "\n",
        "            with open(transcription_path, \"w\") as f:\n",
        "                f.write(json.dumps(transcription_text, indent=4, ensure_ascii=False))\n",
        "\n",
        "            recording[\"transcription_file\"] = transcription_file\n",
        "            recording[\"transcription_time_seconds\"] = round(duration, 2)\n",
        "            print(f\"Transcribed {audio_file} in {duration:.2f} seconds.\")\n",
        "\n",
        "        with open(metadata_path, \"w\") as f:\n",
        "            json.dump(metadata, f, indent=4)\n",
        "\n",
        "        print(f\"Success: Transcriptions completed for user {user_id}\")\n",
        "\n",
        "!pwd\n",
        "# Example usage:\n",
        "# transcribe_all_recordings(skip_existing=True)  # Skips existing transcriptions\n",
        "transcribe_all_recordings(skip_existing=False)  # Re-transcribes all files\n"
      ],
      "metadata": {
        "colab": {
          "base_uri": "https://localhost:8080/"
        },
        "id": "BOEzsXRSk69H",
        "outputId": "3f0a24b4-c2b0-4f84-cdf6-f70225934591",
        "cellView": "form"
      },
      "execution_count": 25,
      "outputs": [
        {
          "output_type": "stream",
          "name": "stdout",
          "text": [
            "/content/tiny-tutorials/discord-transcription-bot\n",
            "Model: <whisperx.asr.FasterWhisperPipeline object at 0x7ab5535e5810>\n",
            "Model Config: <module 'model_config' from '/content/tiny-tutorials/discord-transcription-bot/model_config.py'>\n",
            "Warning: audio is shorter than 30s, language detection may be inaccurate.\n",
            "Detected language: en (0.81) in first 30s of audio...\n",
            "Transcribed session_20250509_13M39.wav in 14.95 seconds.\n",
            "Success: Transcriptions completed for user test_acc_runfish\n",
            "Detected language: en (0.86) in first 30s of audio...\n",
            "Transcribed session_20250509_13M39.wav in 17.50 seconds.\n",
            "Success: Transcriptions completed for user runfishrun\n"
          ]
        }
      ]
    },
    {
      "cell_type": "code",
      "source": [
        "#@title adjust_transcription_times\n",
        "import json\n",
        "import os\n",
        "from datetime import datetime\n",
        "\n",
        "# Define color codes for output (optional, assuming they’re defined elsewhere if needed)\n",
        "GREEN = '\\033[92m'\n",
        "RESET = '\\033[0m'\n",
        "\n",
        "def load_json_file(file_path):\n",
        "    \"\"\"Loads a JSON file and returns its contents.\"\"\"\n",
        "    try:\n",
        "        with open(file_path, 'r') as f:\n",
        "            return json.load(f)\n",
        "    except (FileNotFoundError, json.JSONDecodeError) as e:\n",
        "        print(f\"Error loading {file_path}: {e}\")\n",
        "        return None\n",
        "\n",
        "def calculate_time_offset(recording, reference_time):\n",
        "    \"\"\"\n",
        "    Calculates time difference between user start time and the reference time in seconds.\n",
        "\n",
        "    Args:\n",
        "        recording (dict): Recording metadata with user_recording_start_time.\n",
        "        reference_time (datetime): The unified reference time (earliest session_start_time).\n",
        "\n",
        "    Returns:\n",
        "        float: Time offset in seconds, or None if parsing fails.\n",
        "    \"\"\"\n",
        "    try:\n",
        "        user_dt = datetime.strptime(recording[\"user_recording_start_time\"], \"%Y-%m-%d %H:%M:%S\")\n",
        "        offset = (user_dt - reference_time).total_seconds()\n",
        "        print(f\"{GREEN}total_seconds offset for {recording['audio_file']}: {offset}{RESET}\")\n",
        "        return offset\n",
        "    except ValueError as e:\n",
        "        print(f\"Time parsing failed for {recording['audio_file']}: {e}\")\n",
        "        return None\n",
        "\n",
        "def get_transcription_path(user_dir, audio_file):\n",
        "    \"\"\"Constructs and validates the transcription file path.\"\"\"\n",
        "    audio_base = os.path.splitext(audio_file)[0]\n",
        "    trans_file = f\"{audio_base}_transcription.txt\"\n",
        "    trans_path = os.path.join(user_dir, trans_file)\n",
        "    if not os.path.exists(trans_path):\n",
        "        print(f\"Missing transcription: {trans_path}\")\n",
        "        return None\n",
        "    return trans_path\n",
        "\n",
        "def adjust_timestamps(transcription, time_offset):\n",
        "    \"\"\"Adjusts all start and end times in the transcription by the offset.\"\"\"\n",
        "    for segment in transcription[\"segments\"]:\n",
        "        segment[\"start\"] += time_offset\n",
        "        segment[\"end\"] += time_offset\n",
        "        for word in segment[\"words\"]:\n",
        "            word[\"start\"] = word.get(\"start\", 0) + time_offset\n",
        "            word[\"end\"] = word.get(\"end\", 0) + time_offset\n",
        "\n",
        "    for word in transcription[\"word_segments\"]:\n",
        "        word[\"start\"] = word.get(\"start\", 0) + time_offset\n",
        "        word[\"end\"] = word.get(\"end\", 0) + time_offset\n",
        "\n",
        "def save_adjusted_transcription(trans_path, transcription):\n",
        "    \"\"\"Saves the adjusted transcription to a new file.\"\"\"\n",
        "    new_trans_path = trans_path.replace(\".txt\", \"_adjusted.txt\")\n",
        "    with open(new_trans_path, 'w') as f:\n",
        "        json.dump(transcription, f, indent=4)\n",
        "    print(f\"Saved adjusted transcription to {new_trans_path}\")\n",
        "\n",
        "def adjust_transcription_times(metadata_path, reference_time):\n",
        "    \"\"\"\n",
        "    Shifts timing in transcription files to align with the earliest session start time.\n",
        "\n",
        "    Args:\n",
        "        metadata_path (str): Path to metadata JSON file (e.g., 'recordings/<user_id>/metadata.json').\n",
        "        reference_time (datetime): The earliest session_start_time across all sessions.\n",
        "    \"\"\"\n",
        "    metadata = load_json_file(metadata_path)\n",
        "    if not metadata:\n",
        "        return\n",
        "\n",
        "    user_dir = os.path.dirname(metadata_path)\n",
        "    for recording in metadata[\"recordings\"]:\n",
        "        time_offset = calculate_time_offset(recording, reference_time)\n",
        "        if time_offset is None:\n",
        "            continue\n",
        "\n",
        "        trans_path = get_transcription_path(user_dir, recording[\"audio_file\"])\n",
        "        if not trans_path:\n",
        "            continue\n",
        "\n",
        "        transcription = load_json_file(trans_path)\n",
        "        if not transcription:\n",
        "            continue\n",
        "\n",
        "        adjust_timestamps(transcription, time_offset)\n",
        "        save_adjusted_transcription(trans_path, transcription)\n",
        "\n",
        "# Process all user directories\n",
        "base_dir = \"/content/tiny-tutorials/discord-transcription-bot/recordings\"\n",
        "user_dirs = [d for d in os.listdir(base_dir) if os.path.isdir(os.path.join(base_dir, d))]\n",
        "\n",
        "# Step 1: Find the earliest session_start_time (T0)\n",
        "session_start_times = []\n",
        "for user_dir in user_dirs:\n",
        "    metadata_path = os.path.join(base_dir, user_dir, \"metadata.json\")\n",
        "    metadata = load_json_file(metadata_path)\n",
        "    if metadata:\n",
        "        for recording in metadata[\"recordings\"]:\n",
        "            session_start_times.append(recording[\"session_start_time\"])\n",
        "\n",
        "if not session_start_times:\n",
        "    print(\"No session start times found. Cannot proceed with adjustments.\")\n",
        "else:\n",
        "    # Convert to datetime objects and find the minimum\n",
        "    session_start_datetimes = [datetime.strptime(st, \"%Y-%m-%d %H:%M:%S\") for st in session_start_times]\n",
        "    T0 = min(session_start_datetimes)\n",
        "    start_time_str = str(T0)\n",
        "    print(f\"Earliest session start time (T0): {T0}\")\n",
        "\n",
        "    # Step 2: Adjust transcriptions using T0 as the unified reference\n",
        "    for user_dir in user_dirs:\n",
        "        metadata_path = os.path.join(base_dir, user_dir, \"metadata.json\")\n",
        "        adjust_transcription_times(metadata_path, T0)"
      ],
      "metadata": {
        "id": "H8YTa0gTrOY8",
        "cellView": "form",
        "colab": {
          "base_uri": "https://localhost:8080/"
        },
        "outputId": "0b274aa5-8a46-4f5a-e56d-a0dd52ac3349"
      },
      "execution_count": 26,
      "outputs": [
        {
          "output_type": "stream",
          "name": "stdout",
          "text": [
            "Earliest session start time (T0): 2025-05-09 13:51:46\n",
            "\u001b[92mtotal_seconds offset for session_20250509_13M39.wav: 20.0\u001b[0m\n",
            "Saved adjusted transcription to /content/tiny-tutorials/discord-transcription-bot/recordings/test_acc_runfish/session_20250509_13M39_transcription_adjusted.txt\n",
            "\u001b[92mtotal_seconds offset for session_20250509_13M39.wav: 7.0\u001b[0m\n",
            "Saved adjusted transcription to /content/tiny-tutorials/discord-transcription-bot/recordings/runfishrun/session_20250509_13M39_transcription_adjusted.txt\n"
          ]
        }
      ]
    },
    {
      "cell_type": "code",
      "source": [
        "# @title create_unified_transcription_object\n",
        "import os\n",
        "import json\n",
        "from datetime import datetime, timedelta\n",
        "\n",
        "# Custom function to handle datetime serialization\n",
        "def custom_serializer(obj):\n",
        "    if isinstance(obj, datetime):\n",
        "        return obj.isoformat()  # Convert datetime to an ISO 8601 string\n",
        "    raise TypeError(f\"Type {type(obj)} not serializable\")\n",
        "\n",
        "def create_unified_transcription_object( start_time_str, recordings_dir=\"recordings\"):\n",
        "    \"\"\"\n",
        "    Creates a unified JSON-like object from transcription files in the recordings directory.\n",
        "    Each segment includes the username and is sorted by absolute start time.\n",
        "\n",
        "    Args:\n",
        "        recordings_dir (str): Path to the 'recordings' directory.\n",
        "\n",
        "    Returns:\n",
        "        list: Sorted list of segment dictionaries with username, start, end, and text.\n",
        "    \"\"\"\n",
        "    all_segments = []\n",
        "\n",
        "    # Iterate over each user directory in 'recordings'\n",
        "    for user_dir in os.listdir(recordings_dir):\n",
        "        user_path = os.path.join(recordings_dir, user_dir)\n",
        "        if not os.path.isdir(user_path):\n",
        "            continue\n",
        "\n",
        "        # Load metadata.json\n",
        "        metadata_path = os.path.join(user_path, \"metadata.json\")\n",
        "        if not os.path.exists(metadata_path):\n",
        "            print(f\"Warning: metadata.json not found in {user_path}\")\n",
        "            continue\n",
        "\n",
        "        with open(metadata_path, 'r', encoding='utf-8') as f:\n",
        "            metadata = json.load(f)\n",
        "\n",
        "        # Process each recording in metadata\n",
        "        for recording in metadata.get(\"recordings\", []):\n",
        "            username = recording.get(\"username\")\n",
        "            if not username:\n",
        "                print(f\"Warning: No username found in recording {recording}\")\n",
        "                continue\n",
        "\n",
        "            if not start_time_str:\n",
        "                print(f\"Warning: No user_recording_start_time in {recording}\")\n",
        "                continue\n",
        "            try:\n",
        "                recording_start = datetime.strptime(start_time_str, \"%Y-%m-%d %H:%M:%S\")\n",
        "            except ValueError as e:\n",
        "                print(f\"Error parsing time {start_time_str}: {e}\")\n",
        "                continue\n",
        "\n",
        "            # Derive the adjusted transcription file name\n",
        "            transcription_file = recording.get(\"transcription_file\")\n",
        "            if not transcription_file:\n",
        "                print(f\"Warning: No transcription_file in {recording}\")\n",
        "                continue\n",
        "            # Replace '_transcription.txt' with '_transcription_adjusted.txt'\n",
        "            adjusted_file = transcription_file.replace(\"_transcription.txt\", \"_transcription_adjusted.txt\")\n",
        "            adjusted_path = os.path.join(user_path, adjusted_file)\n",
        "\n",
        "            # Load the transcription file\n",
        "            if not os.path.exists(adjusted_path):\n",
        "                print(f\"Warning: {adjusted_file} not found in {user_path}\")\n",
        "                continue\n",
        "\n",
        "            with open(adjusted_path, 'r', encoding='utf-8') as f:\n",
        "                transcription = json.load(f)\n",
        "\n",
        "            # Process each segment\n",
        "            for segment in transcription.get(\"segments\", []):\n",
        "                rel_start = segment.get(\"start\")\n",
        "                rel_end = segment.get(\"end\")\n",
        "                text = segment.get(\"text\")\n",
        "\n",
        "                if rel_start is None or rel_end is None or not text:\n",
        "                    print(f\"Warning: Incomplete segment in {adjusted_file}: {segment}\")\n",
        "                    continue\n",
        "\n",
        "                # Calculate absolute times\n",
        "                abs_start = recording_start + timedelta(seconds=rel_start)\n",
        "                abs_end = recording_start + timedelta(seconds=rel_end)\n",
        "\n",
        "                # Create segment dictionary\n",
        "                segment_dict = {\n",
        "                    \"username\": username,\n",
        "                    \"start\": abs_start,  # datetime object\n",
        "                    \"end\": abs_end,      # datetime object\n",
        "                    \"text\": text\n",
        "                }\n",
        "                all_segments.append(segment_dict)\n",
        "\n",
        "    # Sort all segments by absolute start time\n",
        "    all_segments.sort(key=lambda x: x[\"start\"])\n",
        "\n",
        "    return all_segments\n",
        "\n",
        "\n",
        "unified_object = create_unified_transcription_object(start_time_str)\n",
        "unified_obj_path = '/content/tiny-tutorials/discord-transcription-bot/recordings/unified_object.json'\n",
        "final_transcript_path = '/content/tiny-tutorials/discord-transcription-bot/recordings/transcript.txt'\n",
        "# Save JSON with datetime converted to string\n",
        "with open(unified_obj_path, 'w') as f:\n",
        "    json.dump(unified_object, f, indent=2, default=custom_serializer)"
      ],
      "metadata": {
        "id": "cDWvraGhrL1V",
        "cellView": "form"
      },
      "execution_count": 27,
      "outputs": []
    },
    {
      "cell_type": "code",
      "source": [
        "#@title transform_transcript_format\n",
        "from datetime import datetime\n",
        "\n",
        "def transform_to_transcript(data):\n",
        "    # List to store groups of consecutive entries\n",
        "    groups = []\n",
        "    current_group = None\n",
        "\n",
        "    # Step 1: Group consecutive entries by speaker\n",
        "    for entry in data:\n",
        "        if current_group is None or entry['username'] == current_group['speaker']:\n",
        "            # If no current group exists, start a new one\n",
        "            if current_group is None:\n",
        "                current_group = {\n",
        "                    'speaker': entry['username'],\n",
        "                    'start_time': entry['start'],\n",
        "                    'texts': [entry['text'].strip()]\n",
        "                }\n",
        "            # If speaker is the same, append text to current group\n",
        "            else:\n",
        "                current_group['texts'].append(entry['text'].strip())\n",
        "        else:\n",
        "            # Speaker changed, save current group and start a new one\n",
        "            groups.append(current_group)\n",
        "            current_group = {\n",
        "                'speaker': entry['username'],\n",
        "                'start_time': entry['start'],\n",
        "                'texts': [entry['text'].strip()]\n",
        "            }\n",
        "\n",
        "    # Don’t forget to append the last group\n",
        "    if current_group is not None:\n",
        "        groups.append(current_group)\n",
        "\n",
        "    # Step 2: Format each group into transcript lines\n",
        "    transcript_lines = []\n",
        "    for i, group in enumerate(groups, 1):  # Start numbering at 1\n",
        "        # Convert the group's start time to HH:MM:SS format\n",
        "        start_time = datetime.fromisoformat(group['start_time']).strftime(\"%H:%M:%S\")\n",
        "        # Format the entry: number, [user @ time], and all texts joined with spaces\n",
        "        entry_text = f\"{i} [{group['speaker']} @ {start_time}]\\n{' '.join(group['texts'])}\\n\\n\"\n",
        "        transcript_lines.append(entry_text)\n",
        "\n",
        "    # Step 3: Join all lines with newlines\n",
        "    return \"\\n\".join(transcript_lines)\n",
        "\n",
        "# Example usage with the rest of your code\n",
        "# Load JSON back into a Python object\n",
        "with open(unified_obj_path, 'r') as f:\n",
        "    unified_object = json.load(f)\n",
        "\n",
        "# Generate transcript\n",
        "transcript = transform_to_transcript(unified_object)\n",
        "\n",
        "# Save transcript to file\n",
        "with open(final_transcript_path, 'w') as f:\n",
        "    f.write(transcript)\n",
        "\n",
        "# Print for verification\n",
        "print(f\"{MAGENTA}\\nTransformed transcript saved as 'transcript.txt':{RESET}\")\n",
        "print(transcript)"
      ],
      "metadata": {
        "id": "uY5BYIyijYqt",
        "colab": {
          "base_uri": "https://localhost:8080/"
        },
        "outputId": "6b58bc75-edfe-4b9d-d148-4d1459a0f69b"
      },
      "execution_count": 28,
      "outputs": [
        {
          "output_type": "stream",
          "name": "stdout",
          "text": [
            "\u001b[35m\n",
            "Transformed transcript saved as 'transcript.txt':\u001b[0m\n",
            "1 [runfishrun @ 13:51:53]\n",
            "Hello, this first account speaking, first round, first engagement.\n",
            "\n",
            "\n",
            "2 [test_acc_runfish @ 13:52:06]\n",
            "Hello, this is the second account.\n",
            "\n",
            "\n",
            "3 [runfishrun @ 13:52:08]\n",
            "No, this is my second turn again. Awesome. Second term.\n",
            "\n",
            "\n",
            "4 [test_acc_runfish @ 13:52:23]\n",
            "Second term, second account.\n",
            "\n",
            "\n",
            "5 [runfishrun @ 13:52:24]\n",
            "Second term.\n",
            "\n",
            "\n",
            "6 [test_acc_runfish @ 13:52:26]\n",
            "Finish testing now.\n",
            "\n",
            "\n",
            "7 [runfishrun @ 13:52:27]\n",
            "Second term.\n",
            "\n",
            "\n"
          ]
        }
      ]
    },
    {
      "cell_type": "markdown",
      "source": [
        "The smallest model (WhisperX-tiny) picks up the echo because the microphone and speaker for both accounts are in the same room. However, the medium model is able to filter out this issue."
      ],
      "metadata": {
        "id": "YGoJ1rPEiwwg"
      }
    },
    {
      "cell_type": "code",
      "source": [
        "'''\n",
        "For downloaed we zip it.\n",
        "(Google Colab doesnt support download and upload of directories.)\n",
        "'''\n",
        "!zip -r recordings.zip recordings"
      ],
      "metadata": {
        "id": "eT4ZSwYYXsaz"
      },
      "execution_count": null,
      "outputs": []
    },
    {
      "cell_type": "code",
      "source": [
        "# !unzip recordings.zip -d recordings_unzip\n"
      ],
      "metadata": {
        "id": "UbFyBwNM3fml"
      },
      "execution_count": null,
      "outputs": []
    },
    {
      "cell_type": "markdown",
      "source": [
        "##<font color='magenta'>Further Information"
      ],
      "metadata": {
        "id": "-3DHuqrAtHD6"
      }
    },
    {
      "cell_type": "markdown",
      "source": [
        "- comparison of some models (e.g. whisper, whisperX, etc.) https://github.com/SYSTRAN/faster-whisper\n",
        "\n",
        "- Another Notebook with utilizing: [WhisperX.ipynb](https://colab.research.google.com/github/cnbeining/Whisper_Notebook/blob/master/WhisperX.ipynb#scrollTo=VuO7n7Xa7myj)\n",
        "    \n",
        "    - GPU setting\n",
        "    - WhisperX\n",
        "    - single audio file\n",
        "    - translation to 31 languages, fileformat: SRT (SubRip SubTitle)\n",
        "```\n",
        "1\n",
        "00:00:05,000 --> 00:00:10,000\n",
        "Hello, welcome to our video!\n",
        "```\n",
        "```\n",
        "2\n",
        "00:00:12,000 --> 00:00:15,000\n",
        "Today, we will talk about translation.\n",
        "```\n",
        "\n",
        "- Another Notebook with utilizing: [WhisperX_Speaker_Diarization.ipynb](https://colab.research.google.com/drive/1IHum-j2AOjVOs_ZoqJ5yBUjf1kI4SLmt?usp=sharing)\n",
        "    - [Youtube-Video: *Multi Speaker Transcription with Speaker IDs with Local Whisper*](https://www.youtube.com/watch?v=SAIsk0i7KgU)\n",
        "    - `load_align_model` to get word-level timestamps (like I did)\n",
        "    - Diarization (multiple persons in one audio file)\n",
        "        - `diarize_model(audio, min_speakers=2, max_speakers=2)` #or auto-detect\n",
        "\n",
        "\n",
        "### Diarization\n",
        "- [pyannote.audio speaker diarization toolkit](https://github.com/pyannote/pyannote-audio)\n",
        "\n",
        "### real-time streaming automatic speech recognition (ASR).\n",
        "- https://www.reddit.com/r/Python/comments/170iwzc/i_developed_a_realtime_speech_to_text_library/\n",
        "    - https://www.youtube.com/watch?v=BKOMqKp436Q\n",
        "    - https://github.com/KoljaB/RealtimeSTT\n",
        "- https://www.youtube.com/watch?v=_spinzpEeFM\n",
        "- https://www.youtube.com/watch?v=k6nIxWGdrS4!\n",
        "- https://www.youtube.com/watch?v=VpB6bxh4deM\n"
      ],
      "metadata": {
        "id": "LzP-MH8HtLyC"
      }
    }
  ]
}